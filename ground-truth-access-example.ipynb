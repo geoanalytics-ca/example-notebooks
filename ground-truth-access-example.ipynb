{
 "cells": [
  {
   "cell_type": "markdown",
   "metadata": {},
   "source": [
    "## Programically Read Ground Truth Data"
   ]
  },
  {
   "cell_type": "code",
   "execution_count": null,
   "metadata": {},
   "outputs": [],
   "source": [
    "import requests\n",
    "import yaml\n",
    "from random import random, randint\n",
    "\n",
    "import cartopy.feature as cfeature\n",
    "import geopandas as gpd\n",
    "import numpy as np\n",
    "import matplotlib.pyplot as plt\n",
    "from cartopy import crs as ccrs\n",
    "from shapely.geometry import Polygon"
   ]
  },
  {
   "cell_type": "code",
   "execution_count": null,
   "metadata": {},
   "outputs": [],
   "source": [
    "with open('./config.yml', 'r') as f:\n",
    "    config = yaml.load(f, Loader=yaml.SafeLoader)"
   ]
  },
  {
   "cell_type": "code",
   "execution_count": null,
   "metadata": {},
   "outputs": [],
   "source": [
    "def open_geojson(url):\n",
    "    headers = {'cookie': f'_oauth2_proxy={config[\"AUTH_TOKEN\"]}'}\n",
    "    res = requests.get(url, headers=headers, params={'limit':500})\n",
    "    gdf = gpd.read_file(res.text)\n",
    "    return gdf"
   ]
  },
  {
   "cell_type": "markdown",
   "metadata": {},
   "source": [
    "## Open GT Collection using GeoPandas\n",
    "\n",
    "Open source Geospatial data frames library\n",
    "\n",
    "https://geopandas.readthedocs.io/en/latest/\n",
    "\n",
    "Allows for easy indexing, manipulation, grouping of data. Assists data subsetting and validation."
   ]
  },
  {
   "cell_type": "code",
   "execution_count": null,
   "metadata": {},
   "outputs": [],
   "source": [
    "geojson_url = 'https://gt.data.geoanalytics.ca/collections/SE_AGR/items?f=json'\n",
    "gdf = open_geojson(geojson_url)"
   ]
  },
  {
   "cell_type": "code",
   "execution_count": null,
   "metadata": {},
   "outputs": [],
   "source": [
    "gdf"
   ]
  },
  {
   "cell_type": "markdown",
   "metadata": {},
   "source": [
    "## Example filter\n",
    "\n",
    "`Nvx1 == AGR and Nvx3 == FOI1`"
   ]
  },
  {
   "cell_type": "code",
   "execution_count": null,
   "metadata": {},
   "outputs": [],
   "source": [
    "relevant_data = gdf[(gdf['Nvx1'] == 'AGR') & (gdf['Nvx3'] == 'FOI1')]\n",
    "relevant_data"
   ]
  },
  {
   "cell_type": "code",
   "execution_count": null,
   "metadata": {},
   "outputs": [],
   "source": [
    "gdf"
   ]
  },
  {
   "cell_type": "markdown",
   "metadata": {},
   "source": [
    "## Example usage of data\n",
    "\n",
    "- Data comparison\n",
    "- Plot filtered items"
   ]
  },
  {
   "cell_type": "markdown",
   "metadata": {},
   "source": [
    "### Compare synthetic data set with ground truth\n",
    "\n",
    "Example workflow for data validation"
   ]
  },
  {
   "cell_type": "code",
   "execution_count": null,
   "metadata": {},
   "outputs": [],
   "source": [
    "def create_synthetic_polygon(ll_lat, ll_lon, ul_lat, ul_lon):\n",
    "    return Polygon(((ll_lon, ll_lat), (ll_lon, ul_lat), (ul_lon, ul_lat), (ul_lon, ll_lat)))"
   ]
  },
  {
   "cell_type": "code",
   "execution_count": null,
   "metadata": {},
   "outputs": [],
   "source": [
    "## generate synthetic data\n",
    "\n",
    "nvx3_values = gdf['Nvx3'].unique()\n",
    "lat_max = 46.5\n",
    "lat_min = 46.0\n",
    "lon_max = -75.0\n",
    "lon_min = -73.0\n",
    "\n",
    "\n",
    "synthetic_data = []\n",
    "for i in range(500):\n",
    "    m = randint(0, len(nvx3_values)-1)\n",
    "    nvx3 = nvx3_values[m]\n",
    "    ll_lat = lat_min + (lat_max - lat_min) * random()\n",
    "    ll_lon = lon_min + (lon_max - lon_min) * random()\n",
    "    ul_lat = ll_lat + 0.05\n",
    "    ul_lon = ll_lon + 0.05\n",
    "    geom = create_synthetic_polygon(ll_lat, ll_lon, ul_lat, ul_lon)\n",
    "    synthetic_data.append({'syn_id': i, 'Nvx3': nvx3, 'geometry': geom})\n",
    "\n",
    "syn_df = gpd.GeoDataFrame(synthetic_data, crs='epsg:4326')\n",
    "syn_df.head()"
   ]
  },
  {
   "cell_type": "code",
   "execution_count": null,
   "metadata": {},
   "outputs": [],
   "source": [
    "## intersect GT data with synthetic data\n",
    "intersected_points = gpd.overlay(syn_df, gdf, how='intersection')\n",
    "intersected_points"
   ]
  },
  {
   "cell_type": "code",
   "execution_count": null,
   "metadata": {},
   "outputs": [],
   "source": [
    "# identify points that match with ground truth\n",
    "intersected_points[intersected_points['Nvx3_1'] == intersected_points['Nvx3_2']]"
   ]
  },
  {
   "cell_type": "code",
   "execution_count": null,
   "metadata": {},
   "outputs": [],
   "source": [
    "## identify points that do not match with ground truth\n",
    "intersected_points[intersected_points['Nvx3_1'] != intersected_points['Nvx3_2']]"
   ]
  },
  {
   "cell_type": "markdown",
   "metadata": {},
   "source": [
    "### Plot relevant points\n",
    "\n",
    "Example workflow for publishing data"
   ]
  },
  {
   "cell_type": "code",
   "execution_count": null,
   "metadata": {},
   "outputs": [],
   "source": [
    "# https://spatialreference.org/ref/epsg/32662/\n",
    "plate_carree_epsg = 32662\n",
    "proj = ccrs.epsg(plate_carree_epsg)\n",
    "relevant_data_epsg = relevant_data.to_crs(epsg=plate_carree_epsg)\n",
    "\n",
    "fig, ax = plt.subplots(1,1, subplot_kw={'projection': proj}, figsize=(10, 10))\n",
    "ax.set_extent([-74.5, -72.5, 46, 44.5], crs=ccrs.PlateCarree())\n",
    "#ax.set_extent([-77, -69, 48, 42], crs=proj)\n",
    "ax.add_feature(cfeature.LAND.with_scale('50m'))\n",
    "ax.add_feature(cfeature.NaturalEarthFeature(\n",
    "        category='cultural',\n",
    "        name='admin_1_states_provinces_lines',\n",
    "        scale='50m',\n",
    "        facecolor='none'))\n",
    "ax.add_feature(cfeature.LAKES.with_scale('10m'), alpha=0.5)\n",
    "ax.add_feature(cfeature.RIVERS.with_scale('10m'), alpha=0.5)\n",
    "ax.add_feature(cfeature.STATES.with_scale('10m'))\n",
    "ax.add_geometries(relevant_data_epsg['geometry'], crs=proj, edgecolor='red', linewidth=3)\n",
    "ax.set_title('Attributes with Nvx1=AGR, Nvx3=FOI1')\n",
    "fig.show()"
   ]
  }
 ],
 "metadata": {
  "kernelspec": {
   "display_name": "Python 3",
   "language": "python",
   "name": "python3"
  },
  "language_info": {
   "codemirror_mode": {
    "name": "ipython",
    "version": 3
   },
   "file_extension": ".py",
   "mimetype": "text/x-python",
   "name": "python",
   "nbconvert_exporter": "python",
   "pygments_lexer": "ipython3",
   "version": "3.7.6"
  }
 },
 "nbformat": 4,
 "nbformat_minor": 4
}
