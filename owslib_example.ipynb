{
 "cells": [
  {
   "cell_type": "markdown",
   "metadata": {},
   "source": [
    "# Using OWSLib WFS3 Client on STAC API\n",
    "\n",
    "This notebook demonstrates how to use the WFS3 client to query a STAC API (v0.8.0)\n",
    "\n",
    "https://geopython.github.io/OWSLib/#wfs-3-0"
   ]
  },
  {
   "cell_type": "code",
   "execution_count": 1,
   "metadata": {},
   "outputs": [],
   "source": [
    "from owslib.wfs import WebFeatureService"
   ]
  },
  {
   "cell_type": "code",
   "execution_count": 2,
   "metadata": {},
   "outputs": [],
   "source": [
    "stac = WebFeatureService('http://localhost:8080', version='3.0')"
   ]
  },
  {
   "cell_type": "code",
   "execution_count": 3,
   "metadata": {},
   "outputs": [
    {
     "name": "stdout",
     "output_type": "stream",
     "text": [
      "Basic info: \n",
      "URL: http://localhost:8080/ \n",
      "Version: 3.0 \n",
      "Conformance {'conformsTo': ['http://www.opengis.net/spec/ogcapi-features-1/1.0/conf/core', 'http://www.opengis.net/spec/ogcapi-features-1/1.0/conf/html', 'http://www.opengis.net/spec/ogcapi-features-1/1.0/conf/geojson', 'http://www.opengis.net/spec/ogcapi-features-1/1.0/conf/x-cql-text']}\n"
     ]
    }
   ],
   "source": [
    "print(f'Basic info: \\nURL: {stac.url} \\nVersion: {stac.version} \\nConformance {stac.conformance()}')"
   ]
  },
  {
   "cell_type": "code",
   "execution_count": 4,
   "metadata": {},
   "outputs": [
    {
     "name": "stdout",
     "output_type": "stream",
     "text": [
      "Title: MODIS MOD09GQ \n",
      "\t Description: MODIS/Terra Surface Reflectance Daily L2G Global 250 m SIN Grid\n",
      "\n",
      "Title: MODIS MOD13Q1 \n",
      "\t Description: MODIS/Terra Vegetation Indices 16-Day L3 Global 250 m SIN Grid\n",
      "\n",
      "Title: MODIS MOD11A1 \n",
      "\t Description: MODIS/Terra Land Surface Temperature/Emissivity Daily L3 Global 1 km SIN Grid\n",
      "\n",
      "Title: MODIS MOD11A2 \n",
      "\t Description: MODIS/Terra Land Surface Temperature/Emissivity 8-Day L3 Global 1 km SIN Grid\n",
      "\n",
      "Title: MODIS MCD12Q1 \n",
      "\t Description: MODIS/Terra+Aqua Land Cover Type Yearly L3 Global 500 m SIN Grid\n",
      "\n",
      "Title: MODIS MOD09Q1 \n",
      "\t Description: MODIS/Terra Surface Reflectance 8-Day L3 Global 250 m SIN Grid\n",
      "\n",
      "\n",
      "\n",
      "\n",
      "Example output of one collection\n",
      "{'id': 'modis.mod09gq', 'title': 'MODIS MOD09GQ', 'description': 'MODIS/Terra Surface Reflectance Daily L2G Global 250 m SIN Grid', 'crs': ['http://www.opengis.net/def/crs/OGC/1.3/CRS84'], 'keywords': ['aqua', 'terra', 'MOD09GQ', 'modis-aqua', 'modis-terra', 'modis'], 'version': '0.8.0', 'license': '', 'extent': {'spatial': {'bbox': [[-122.17625878751278, 35.050322357565165, -37.343843914568424, 65.1453994307667]]}, 'temporal': {'interval': [['2018-01-01T11:25:00.000Z', '2018-07-18T17:30:00.000Z']]}}, 'providers': [{'name': 'USGS', 'url': 'https://modis.gsfc.nasa.gov/', 'roles': ['producer']}, {'name': 'Geo Analytics Canada', 'url': 'https://geoanalytics.ca/', 'roles': ['processor']}, {'name': 'LP-DAAC', 'url': 'https://lpdaac.usgs.gov/products/mod09gqv006/', 'roles': ['producer']}], 'properties': {'eo:platform': 'modis', 'eo:instrument': 'MODIS Terra', 'eo:off_nadir': 0, 'eo:constellation': 'modis', 'eo:bands': []}, 'links': [{'href': 'http://localhost:8080/collections/modis.mod09gq', 'rel': 'self'}, {'href': 'http://localhost:8080/stac', 'rel': 'root'}, {'href': 'http://localhost:8080/stac', 'rel': 'parent'}, {'href': 'http://localhost:8080/collections/modis.mod09gq/items', 'rel': 'items', 'type': 'application/geo+json'}]}\n"
     ]
    }
   ],
   "source": [
    "# Collections method returns json data from /collections endpoint\n",
    "collections = stac.collections()\n",
    "for c in collections:\n",
    "    print(f\"Title: {c['title']} \\n\\t Description: {c['description']}\\n\")\n",
    "\n",
    "print('\\n\\n\\nExample output of one collection')\n",
    "print(collections[0])"
   ]
  },
  {
   "cell_type": "code",
   "execution_count": 5,
   "metadata": {},
   "outputs": [],
   "source": [
    "# Query data in a collection\n",
    "collection_id = 'modis.mod09gq'\n",
    "bbox = list([str(x) for x in [-70,50,-68,53]])\n",
    "time = '2018-01-03/2018-01-07'\n",
    "limit = 10\n",
    "res = stac.collection_items(\n",
    "    collection_id,\n",
    "    bbox=bbox,\n",
    "    datetime=time,\n",
    "    limit=limit\n",
    ")"
   ]
  },
  {
   "cell_type": "code",
   "execution_count": 6,
   "metadata": {},
   "outputs": [
    {
     "name": "stdout",
     "output_type": "stream",
     "text": [
      "Id: MOD09GQ.A2018003.h13v03.006.2018005031635 \n",
      "\tDownload Link: https://www.googleapis.com/storage/v1/b/granule-gcs-mtl01/o/modis-terra%2FMOD09GQ.006%2F2018.01.03%2FMOD09GQ.A2018003.h13v03.006.2018005031635.hdf\n",
      "\n",
      "Id: MOD09GQ.A2018003.h13v04.006.2018005031338 \n",
      "\tDownload Link: https://www.googleapis.com/storage/v1/b/granule-gcs-mtl01/o/modis-terra%2FMOD09GQ.006%2F2018.01.03%2FMOD09GQ.A2018003.h13v04.006.2018005031338.hdf\n",
      "\n",
      "Id: MOD09GQ.A2018004.h13v04.006.2018006031247 \n",
      "\tDownload Link: https://www.googleapis.com/storage/v1/b/granule-gcs-mtl01/o/modis-terra%2FMOD09GQ.006%2F2018.01.04%2FMOD09GQ.A2018004.h13v04.006.2018006031247.hdf\n",
      "\n",
      "Id: MOD09GQ.A2018004.h13v03.006.2018006031416 \n",
      "\tDownload Link: https://www.googleapis.com/storage/v1/b/granule-gcs-mtl01/o/modis-terra%2FMOD09GQ.006%2F2018.01.04%2FMOD09GQ.A2018004.h13v03.006.2018006031416.hdf\n",
      "\n",
      "Id: MOD09GQ.A2018005.h13v03.006.2018009190910 \n",
      "\tDownload Link: https://www.googleapis.com/storage/v1/b/granule-gcs-mtl01/o/modis-terra%2FMOD09GQ.006%2F2018.01.05%2FMOD09GQ.A2018005.h13v03.006.2018009190910.hdf\n",
      "\n",
      "Id: MOD09GQ.A2018005.h13v04.006.2018009190645 \n",
      "\tDownload Link: https://www.googleapis.com/storage/v1/b/granule-gcs-mtl01/o/modis-terra%2FMOD09GQ.006%2F2018.01.05%2FMOD09GQ.A2018005.h13v04.006.2018009190645.hdf\n",
      "\n",
      "Id: MOD09GQ.A2018006.h13v03.006.2018009194912 \n",
      "\tDownload Link: https://www.googleapis.com/storage/v1/b/granule-gcs-mtl01/o/modis-terra%2FMOD09GQ.006%2F2018.01.06%2FMOD09GQ.A2018006.h13v03.006.2018009194912.hdf\n",
      "\n",
      "Id: MOD09GQ.A2018006.h13v04.006.2018009194737 \n",
      "\tDownload Link: https://www.googleapis.com/storage/v1/b/granule-gcs-mtl01/o/modis-terra%2FMOD09GQ.006%2F2018.01.06%2FMOD09GQ.A2018006.h13v04.006.2018009194737.hdf\n",
      "\n",
      "Id: MOD09GQ.A2018007.h13v04.006.2018009031805 \n",
      "\tDownload Link: https://www.googleapis.com/storage/v1/b/granule-gcs-mtl01/o/modis-terra%2FMOD09GQ.006%2F2018.01.07%2FMOD09GQ.A2018007.h13v04.006.2018009031805.hdf\n",
      "\n",
      "Id: MOD09GQ.A2018007.h13v03.006.2018009031951 \n",
      "\tDownload Link: https://www.googleapis.com/storage/v1/b/granule-gcs-mtl01/o/modis-terra%2FMOD09GQ.006%2F2018.01.07%2FMOD09GQ.A2018007.h13v03.006.2018009031951.hdf\n",
      "\n",
      "\n",
      "\n",
      "\n",
      "Example output of one feature\n",
      "{'id': 'MOD09GQ.A2018003.h13v03.006.2018005031635', 'bbox': [-100.7999972, 49.6786913, -61.9370686, 60.0926778], 'geometry': {'type': 'Polygon', 'coordinates': [[[-61.9370686, 49.762121], [-80.0801278, 60.0926778], [-100.7999972, 59.9328073], [-77.9909724, 49.6786913], [-61.9370686, 49.762121]]]}, 'type': 'Feature', 'collection': 'modis.mod09gq', 'properties': {'datetime': '2018-01-03T14:30:00Z', 'modis:year': 2018, 'modis:month': 1, 'modis:day': 3, 'modis:day_night_flag': 'BOTH'}, 'links': [{'href': 'http://localhost:8080/collections/modis.mod09gq/items/MOD09GQ.A2018003.h13v03.006.2018005031635', 'rel': 'self', 'type': 'application/geo+json'}, {'href': 'http://localhost:8080/stac', 'rel': 'root', 'type': 'application/geo+json'}, {'href': 'http://localhost:8080/collections/modis.mod09gq', 'rel': 'collection', 'type': 'application/geo+json'}], 'assets': {'cmr-metadata': {'href': 'https://www.googleapis.com/storage/v1/b/granule-gcs-mtl01/o/modis-terra%2FMOD09GQ.006%2F2018.01.03%2FMOD09GQ.A2018003.h13v03.006.2018005031635.hdf_meta.json', 'type': 'application/json', 'title': 'CMR Metadata'}, 'lpdaac-metadata': {'href': 'https://www.googleapis.com/storage/v1/b/granule-gcs-mtl01/o/modis-terra%2FMOD09GQ.006%2F2018.01.03%2FMOD09GQ.A2018003.h13v03.006.2018005031635.hdf.xml', 'type': 'text/xml', 'title': 'LP-DAAC Metadata'}, 'analytic': {'href': 'https://www.googleapis.com/storage/v1/b/granule-gcs-mtl01/o/modis-terra%2FMOD09GQ.006%2F2018.01.03%2FMOD09GQ.A2018003.h13v03.006.2018005031635.hdf', 'type': 'application/x-hdfeos', 'title': 'Granule'}}, 'stac_version': '0.8.0', 'stac_extensions': ['eo', 'modis']}\n"
     ]
    }
   ],
   "source": [
    "for f in res['features']:\n",
    "    resource_link = f['assets']['analytic']['href']\n",
    "    print(f\"Id: {f['id']} \\n\\tDownload Link: {resource_link}\\n\")\n",
    "print('\\n\\n\\nExample output of one feature')\n",
    "print(res['features'][0])"
   ]
  }
 ],
 "metadata": {
  "kernelspec": {
   "display_name": "phacbase",
   "language": "python",
   "name": "phacbase"
  },
  "language_info": {
   "codemirror_mode": {
    "name": "ipython",
    "version": 3
   },
   "file_extension": ".py",
   "mimetype": "text/x-python",
   "name": "python",
   "nbconvert_exporter": "python",
   "pygments_lexer": "ipython3",
   "version": "3.7.5"
  }
 },
 "nbformat": 4,
 "nbformat_minor": 2
}
