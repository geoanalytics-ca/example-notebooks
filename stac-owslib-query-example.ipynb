{
 "cells": [
  {
   "cell_type": "markdown",
   "metadata": {},
   "source": [
    "## STAC OWSLib Interoperability Demo\n",
    "\n",
    "Goal: Show that open source OGC clients can be used to perform meaningful queries on GeoAnalytics STAC API\n",
    "\n",
    "### About OWSLib\n",
    "\n",
    ">OWSLib is a Python package for client programming with Open Geospatial Consortium (OGC) web service (hence OWS) interface standards, and their related content models. \n",
    "\n",
    "https://geopython.github.io/OWSLib"
   ]
  },
  {
   "cell_type": "code",
   "execution_count": 1,
   "metadata": {},
   "outputs": [],
   "source": [
    "import os\n",
    "\n",
    "import pandas as pd\n",
    "import yaml\n",
    "from owslib.ogcapi.features import Features"
   ]
  },
  {
   "cell_type": "code",
   "execution_count": 2,
   "metadata": {},
   "outputs": [],
   "source": [
    "with open('./config.yml') as f:\n",
    "    config = yaml.load(f, Loader=yaml.SafeLoader)"
   ]
  },
  {
   "cell_type": "code",
   "execution_count": 3,
   "metadata": {},
   "outputs": [],
   "source": [
    "STAC_URL = 'https://stac.geoanalytics.ca'\n",
    "AUTH_TOKEN = config['AUTH_TOKEN']"
   ]
  },
  {
   "cell_type": "code",
   "execution_count": 4,
   "metadata": {},
   "outputs": [],
   "source": [
    "headers = {'cookie': f'_oauth2_proxy={AUTH_TOKEN}'}\n",
    "stac = Features(STAC_URL, headers=headers)"
   ]
  },
  {
   "cell_type": "code",
   "execution_count": 5,
   "metadata": {},
   "outputs": [],
   "source": [
    "def format_time_query(start, end):\n",
    "    if (start is None) or (start == ''):\n",
    "        start = '..'\n",
    "    if (end is None) or (end == ''):\n",
    "        end = '..'\n",
    "    return f'{start}/{end}'"
   ]
  },
  {
   "cell_type": "code",
   "execution_count": 6,
   "metadata": {},
   "outputs": [],
   "source": [
    "def format_property_query(key, val, op='='):\n",
    "    return f'{key}{op}{val}'"
   ]
  },
  {
   "cell_type": "code",
   "execution_count": 7,
   "metadata": {},
   "outputs": [],
   "source": [
    "def summarize_response(res):\n",
    "    if (not res['type']):\n",
    "        print(f'unexpected result {res}')\n",
    "    features = res['features']\n",
    "    count = len(features)\n",
    "    rows = [extract_row(x) for x in features]\n",
    "    df = pd.DataFrame(rows)\n",
    "    first = df['datetime'].min()\n",
    "    last = df['datetime'].max()\n",
    "    print(f'Query returned {count} points from {first} to {last}')\n",
    "    return df\n",
    "\n",
    "def extract_row(row):\n",
    "    return {\n",
    "        'id': row['id'],\n",
    "        'datetime': row['properties'] and row['properties']['datetime'],\n",
    "        'day_night_flag': row['properties'] and row['properties']['modis:day_night_flag'],\n",
    "        'link': row['assets']['data']['href']\n",
    "    }"
   ]
  },
  {
   "cell_type": "markdown",
   "metadata": {},
   "source": [
    "## Input parameters for STAC query"
   ]
  },
  {
   "cell_type": "code",
   "execution_count": 8,
   "metadata": {},
   "outputs": [],
   "source": [
    "# define query variables\n",
    "evi2_collection = 'modis.mod09gq.veg.evi2'\n",
    "bbox_input = [-80, 42, -75, 47]\n"
   ]
  },
  {
   "cell_type": "code",
   "execution_count": 9,
   "metadata": {},
   "outputs": [],
   "source": [
    "import matplotlib.pyplot as plt\n",
    "import cartopy.crs as ccrs\n",
    "import cartopy.feature as cfeature\n",
    "\n",
    "def bbox_to_xy(bbox):\n",
    "    return [bbox[0], bbox[0], bbox[2], bbox[2], bbox[0]],\\\n",
    "        [bbox[1], bbox[3], bbox[3], bbox[1], bbox[1]]"
   ]
  },
  {
   "cell_type": "code",
   "execution_count": 10,
   "metadata": {},
   "outputs": [
    {
     "data": {
      "image/png": "[encoded data removed]",
      "text/plain": [
       "<Figure size 432x288 with 1 Axes>"
      ]
     },
     "metadata": {
      "needs_background": "light"
     },
     "output_type": "display_data"
    }
   ],
   "source": [
    "fig = plt.figure()\n",
    "proj = ccrs.PlateCarree()\n",
    "ax = fig.add_subplot(1, 1, 1, projection=ccrs.LambertConformal())\n",
    "ax.set_extent([-95, -50, 60, 40], crs=proj)\n",
    "ax.add_feature(cfeature.LAND)\n",
    "ax.add_feature(cfeature.COASTLINE)\n",
    "ax.add_feature(cfeature.BORDERS, linestyle=\":\")\n",
    "ax.add_feature(cfeature.LAKES, alpha=0.5)\n",
    "\n",
    "x, y = bbox_to_xy(bbox_input)\n",
    "#ax.plot(-105, 60, marker='o', transform=proj)\n",
    "ax.plot(x,y, marker='o', transform=proj)\n",
    "ax.fill(x, y, color='coral', alpha=0.4, transform=proj)\n",
    "ax.set_title(f'Extent of default bounding box {bbox_input}')\n",
    "plt.show()"
   ]
  },
  {
   "cell_type": "markdown",
   "metadata": {},
   "source": [
    "### Query EVI2 data from 2015 to 2020 in Southern Quebec"
   ]
  },
  {
   "cell_type": "code",
   "execution_count": 11,
   "metadata": {},
   "outputs": [
    {
     "name": "stdout",
     "output_type": "stream",
     "text": [
      "Query returned 1855 points from 2015-01-01T15:35:00Z to 2020-03-08T00:00:00Z\n"
     ]
    },
    {
     "data": {
      "text/html": [
       "<div>\n",
       "<style scoped>\n",
       "    .dataframe tbody tr th:only-of-type {\n",
       "        vertical-align: middle;\n",
       "    }\n",
       "\n",
       "    .dataframe tbody tr th {\n",
       "        vertical-align: top;\n",
       "    }\n",
       "\n",
       "    .dataframe thead th {\n",
       "        text-align: right;\n",
       "    }\n",
       "</style>\n",
       "<table border=\"1\" class=\"dataframe\">\n",
       "  <thead>\n",
       "    <tr style=\"text-align: right;\">\n",
       "      <th></th>\n",
       "      <th>id</th>\n",
       "      <th>datetime</th>\n",
       "      <th>day_night_flag</th>\n",
       "      <th>link</th>\n",
       "    </tr>\n",
       "  </thead>\n",
       "  <tbody>\n",
       "    <tr>\n",
       "      <th>0</th>\n",
       "      <td>MOD09GQ.A2015001.h12v04.006.2015295022027_vegevi2</td>\n",
       "      <td>2015-01-01T15:35:00Z</td>\n",
       "      <td>BOTH</td>\n",
       "      <td>https://gp.geoanalytics.ca?object=modis-terra/...</td>\n",
       "    </tr>\n",
       "    <tr>\n",
       "      <th>1</th>\n",
       "      <td>MOD09GQ.A2015002.h12v04.006.2015295014944_vegevi2</td>\n",
       "      <td>2015-01-02T14:40:00Z</td>\n",
       "      <td>DAY</td>\n",
       "      <td>https://gp.geoanalytics.ca?object=modis-terra/...</td>\n",
       "    </tr>\n",
       "    <tr>\n",
       "      <th>2</th>\n",
       "      <td>MOD09GQ.A2015003.h12v04.006.2015295033544_vegevi2</td>\n",
       "      <td>2015-01-03T15:20:00Z</td>\n",
       "      <td>DAY</td>\n",
       "      <td>https://gp.geoanalytics.ca?object=modis-terra/...</td>\n",
       "    </tr>\n",
       "    <tr>\n",
       "      <th>3</th>\n",
       "      <td>MOD09GQ.A2015004.h12v04.006.2015295060515_vegevi2</td>\n",
       "      <td>2015-01-04T14:30:00Z</td>\n",
       "      <td>DAY</td>\n",
       "      <td>https://gp.geoanalytics.ca?object=modis-terra/...</td>\n",
       "    </tr>\n",
       "    <tr>\n",
       "      <th>4</th>\n",
       "      <td>MOD09GQ.A2015005.h12v04.006.2015295070636_vegevi2</td>\n",
       "      <td>2015-01-05T15:10:00Z</td>\n",
       "      <td>DAY</td>\n",
       "      <td>https://gp.geoanalytics.ca?object=modis-terra/...</td>\n",
       "    </tr>\n",
       "  </tbody>\n",
       "</table>\n",
       "</div>"
      ],
      "text/plain": [
       "                                                  id              datetime  \\\n",
       "0  MOD09GQ.A2015001.h12v04.006.2015295022027_vegevi2  2015-01-01T15:35:00Z   \n",
       "1  MOD09GQ.A2015002.h12v04.006.2015295014944_vegevi2  2015-01-02T14:40:00Z   \n",
       "2  MOD09GQ.A2015003.h12v04.006.2015295033544_vegevi2  2015-01-03T15:20:00Z   \n",
       "3  MOD09GQ.A2015004.h12v04.006.2015295060515_vegevi2  2015-01-04T14:30:00Z   \n",
       "4  MOD09GQ.A2015005.h12v04.006.2015295070636_vegevi2  2015-01-05T15:10:00Z   \n",
       "\n",
       "  day_night_flag                                               link  \n",
       "0           BOTH  https://gp.geoanalytics.ca?object=modis-terra/...  \n",
       "1            DAY  https://gp.geoanalytics.ca?object=modis-terra/...  \n",
       "2            DAY  https://gp.geoanalytics.ca?object=modis-terra/...  \n",
       "3            DAY  https://gp.geoanalytics.ca?object=modis-terra/...  \n",
       "4            DAY  https://gp.geoanalytics.ca?object=modis-terra/...  "
      ]
     },
     "execution_count": 11,
     "metadata": {},
     "output_type": "execute_result"
    }
   ],
   "source": [
    "# query by time, and bbox\n",
    "time_start = '2015-01-01' \n",
    "time_end = ''\n",
    "bbox = [str(x) for x in bbox_input]\n",
    "datetime = format_time_query(time_start, time_end)\n",
    "\n",
    "\n",
    "res = stac.collection_items(evi2_collection, bbox=bbox, datetime=datetime, limit=5000)\n",
    "df = summarize_response(res)\n",
    "df.head()"
   ]
  },
  {
   "cell_type": "markdown",
   "metadata": {},
   "source": [
    "### Query EVI2 data from Jan to Dec 2019 in Southern Quebec\n",
    "\n",
    "Querying by date range"
   ]
  },
  {
   "cell_type": "code",
   "execution_count": 12,
   "metadata": {},
   "outputs": [
    {
     "name": "stdout",
     "output_type": "stream",
     "text": [
      "Query returned 335 points from 2019-01-01T15:50:00Z to 2019-12-01T00:00:00Z\n"
     ]
    },
    {
     "data": {
      "text/html": [
       "<div>\n",
       "<style scoped>\n",
       "    .dataframe tbody tr th:only-of-type {\n",
       "        vertical-align: middle;\n",
       "    }\n",
       "\n",
       "    .dataframe tbody tr th {\n",
       "        vertical-align: top;\n",
       "    }\n",
       "\n",
       "    .dataframe thead th {\n",
       "        text-align: right;\n",
       "    }\n",
       "</style>\n",
       "<table border=\"1\" class=\"dataframe\">\n",
       "  <thead>\n",
       "    <tr style=\"text-align: right;\">\n",
       "      <th></th>\n",
       "      <th>id</th>\n",
       "      <th>datetime</th>\n",
       "      <th>day_night_flag</th>\n",
       "      <th>link</th>\n",
       "    </tr>\n",
       "  </thead>\n",
       "  <tbody>\n",
       "    <tr>\n",
       "      <th>0</th>\n",
       "      <td>MOD09GQ.A2019001.h12v04.006.2019003024848_vegevi2</td>\n",
       "      <td>2019-01-01T15:50:00Z</td>\n",
       "      <td>DAY</td>\n",
       "      <td>https://gp.geoanalytics.ca?object=modis-terra/...</td>\n",
       "    </tr>\n",
       "    <tr>\n",
       "      <th>1</th>\n",
       "      <td>MOD09GQ.A2019002.h12v04.006.2019004032626_vegevi2</td>\n",
       "      <td>2019-01-02T15:00:00Z</td>\n",
       "      <td>DAY</td>\n",
       "      <td>https://gp.geoanalytics.ca?object=modis-terra/...</td>\n",
       "    </tr>\n",
       "    <tr>\n",
       "      <th>2</th>\n",
       "      <td>MOD09GQ.A2019003.h12v04.006.2019005024751_vegevi2</td>\n",
       "      <td>2019-01-03T15:40:00Z</td>\n",
       "      <td>DAY</td>\n",
       "      <td>https://gp.geoanalytics.ca?object=modis-terra/...</td>\n",
       "    </tr>\n",
       "    <tr>\n",
       "      <th>3</th>\n",
       "      <td>MOD09GQ.A2019004.h12v04.006.2019006025116_vegevi2</td>\n",
       "      <td>2019-01-04T14:45:00Z</td>\n",
       "      <td>DAY</td>\n",
       "      <td>https://gp.geoanalytics.ca?object=modis-terra/...</td>\n",
       "    </tr>\n",
       "    <tr>\n",
       "      <th>4</th>\n",
       "      <td>MOD09GQ.A2019005.h12v04.006.2019007024826_vegevi2</td>\n",
       "      <td>2019-01-05T15:30:00Z</td>\n",
       "      <td>DAY</td>\n",
       "      <td>https://gp.geoanalytics.ca?object=modis-terra/...</td>\n",
       "    </tr>\n",
       "  </tbody>\n",
       "</table>\n",
       "</div>"
      ],
      "text/plain": [
       "                                                  id              datetime  \\\n",
       "0  MOD09GQ.A2019001.h12v04.006.2019003024848_vegevi2  2019-01-01T15:50:00Z   \n",
       "1  MOD09GQ.A2019002.h12v04.006.2019004032626_vegevi2  2019-01-02T15:00:00Z   \n",
       "2  MOD09GQ.A2019003.h12v04.006.2019005024751_vegevi2  2019-01-03T15:40:00Z   \n",
       "3  MOD09GQ.A2019004.h12v04.006.2019006025116_vegevi2  2019-01-04T14:45:00Z   \n",
       "4  MOD09GQ.A2019005.h12v04.006.2019007024826_vegevi2  2019-01-05T15:30:00Z   \n",
       "\n",
       "  day_night_flag                                               link  \n",
       "0            DAY  https://gp.geoanalytics.ca?object=modis-terra/...  \n",
       "1            DAY  https://gp.geoanalytics.ca?object=modis-terra/...  \n",
       "2            DAY  https://gp.geoanalytics.ca?object=modis-terra/...  \n",
       "3            DAY  https://gp.geoanalytics.ca?object=modis-terra/...  \n",
       "4            DAY  https://gp.geoanalytics.ca?object=modis-terra/...  "
      ]
     },
     "execution_count": 12,
     "metadata": {},
     "output_type": "execute_result"
    }
   ],
   "source": [
    "# ex. change datetime range\n",
    "time_start = '2019-01-01' \n",
    "time_end = '2019-12-01'\n",
    "bbox = [str(x) for x in bbox_input]\n",
    "datetime = format_time_query(time_start, time_end)\n",
    "\n",
    "\n",
    "res = stac.collection_items(evi2_collection, bbox=bbox, datetime=datetime, limit=5000)\n",
    "df = summarize_response(res)\n",
    "df.head()"
   ]
  },
  {
   "cell_type": "markdown",
   "metadata": {},
   "source": [
    "### Query EVI2 data derived from daytime data from Jan to Jun 2019 in Southern Quebec\n",
    "\n",
    "Querying by metadata properties"
   ]
  },
  {
   "cell_type": "code",
   "execution_count": 13,
   "metadata": {},
   "outputs": [],
   "source": [
    "## define a property filter\n",
    "#  ex. filter by day-night flag\n",
    "prop = format_property_query('modis:day_night_flag', 'DAY')"
   ]
  },
  {
   "cell_type": "code",
   "execution_count": 14,
   "metadata": {},
   "outputs": [
    {
     "name": "stdout",
     "output_type": "stream",
     "text": [
      "Query returned 332 points from 2019-01-01T15:50:00Z to 2019-11-30T00:00:00Z\n"
     ]
    },
    {
     "data": {
      "text/html": [
       "<div>\n",
       "<style scoped>\n",
       "    .dataframe tbody tr th:only-of-type {\n",
       "        vertical-align: middle;\n",
       "    }\n",
       "\n",
       "    .dataframe tbody tr th {\n",
       "        vertical-align: top;\n",
       "    }\n",
       "\n",
       "    .dataframe thead th {\n",
       "        text-align: right;\n",
       "    }\n",
       "</style>\n",
       "<table border=\"1\" class=\"dataframe\">\n",
       "  <thead>\n",
       "    <tr style=\"text-align: right;\">\n",
       "      <th></th>\n",
       "      <th>id</th>\n",
       "      <th>datetime</th>\n",
       "      <th>day_night_flag</th>\n",
       "      <th>link</th>\n",
       "    </tr>\n",
       "  </thead>\n",
       "  <tbody>\n",
       "    <tr>\n",
       "      <th>0</th>\n",
       "      <td>MOD09GQ.A2019001.h12v04.006.2019003024848_vegevi2</td>\n",
       "      <td>2019-01-01T15:50:00Z</td>\n",
       "      <td>DAY</td>\n",
       "      <td>https://gp.geoanalytics.ca?object=modis-terra/...</td>\n",
       "    </tr>\n",
       "    <tr>\n",
       "      <th>1</th>\n",
       "      <td>MOD09GQ.A2019002.h12v04.006.2019004032626_vegevi2</td>\n",
       "      <td>2019-01-02T15:00:00Z</td>\n",
       "      <td>DAY</td>\n",
       "      <td>https://gp.geoanalytics.ca?object=modis-terra/...</td>\n",
       "    </tr>\n",
       "    <tr>\n",
       "      <th>2</th>\n",
       "      <td>MOD09GQ.A2019003.h12v04.006.2019005024751_vegevi2</td>\n",
       "      <td>2019-01-03T15:40:00Z</td>\n",
       "      <td>DAY</td>\n",
       "      <td>https://gp.geoanalytics.ca?object=modis-terra/...</td>\n",
       "    </tr>\n",
       "    <tr>\n",
       "      <th>3</th>\n",
       "      <td>MOD09GQ.A2019004.h12v04.006.2019006025116_vegevi2</td>\n",
       "      <td>2019-01-04T14:45:00Z</td>\n",
       "      <td>DAY</td>\n",
       "      <td>https://gp.geoanalytics.ca?object=modis-terra/...</td>\n",
       "    </tr>\n",
       "    <tr>\n",
       "      <th>4</th>\n",
       "      <td>MOD09GQ.A2019005.h12v04.006.2019007024826_vegevi2</td>\n",
       "      <td>2019-01-05T15:30:00Z</td>\n",
       "      <td>DAY</td>\n",
       "      <td>https://gp.geoanalytics.ca?object=modis-terra/...</td>\n",
       "    </tr>\n",
       "  </tbody>\n",
       "</table>\n",
       "</div>"
      ],
      "text/plain": [
       "                                                  id              datetime  \\\n",
       "0  MOD09GQ.A2019001.h12v04.006.2019003024848_vegevi2  2019-01-01T15:50:00Z   \n",
       "1  MOD09GQ.A2019002.h12v04.006.2019004032626_vegevi2  2019-01-02T15:00:00Z   \n",
       "2  MOD09GQ.A2019003.h12v04.006.2019005024751_vegevi2  2019-01-03T15:40:00Z   \n",
       "3  MOD09GQ.A2019004.h12v04.006.2019006025116_vegevi2  2019-01-04T14:45:00Z   \n",
       "4  MOD09GQ.A2019005.h12v04.006.2019007024826_vegevi2  2019-01-05T15:30:00Z   \n",
       "\n",
       "  day_night_flag                                               link  \n",
       "0            DAY  https://gp.geoanalytics.ca?object=modis-terra/...  \n",
       "1            DAY  https://gp.geoanalytics.ca?object=modis-terra/...  \n",
       "2            DAY  https://gp.geoanalytics.ca?object=modis-terra/...  \n",
       "3            DAY  https://gp.geoanalytics.ca?object=modis-terra/...  \n",
       "4            DAY  https://gp.geoanalytics.ca?object=modis-terra/...  "
      ]
     },
     "execution_count": 14,
     "metadata": {},
     "output_type": "execute_result"
    }
   ],
   "source": [
    "# query by time, bbox, and day-night flag\n",
    "\n",
    "res = stac.collection_items(evi2_collection, bbox=bbox, datetime=datetime, query=prop, limit=5000)\n",
    "df = summarize_response(res)\n",
    "df.head()"
   ]
  }
 ],
 "metadata": {
  "kernelspec": {
   "display_name": "Python 3",
   "language": "python",
   "name": "python3"
  },
  "language_info": {
   "codemirror_mode": {
    "name": "ipython",
    "version": 3
   },
   "file_extension": ".py",
   "mimetype": "text/x-python",
   "name": "python",
   "nbconvert_exporter": "python",
   "pygments_lexer": "ipython3",
   "version": "3.7.6"
  }
 },
 "nbformat": 4,
 "nbformat_minor": 4
}
