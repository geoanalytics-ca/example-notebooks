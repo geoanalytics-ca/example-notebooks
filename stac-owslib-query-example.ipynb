{
 "cells": [
  {
   "cell_type": "markdown",
   "metadata": {},
   "source": [
    "## STAC OWSLib Interoperability Demo\n",
    "\n",
    "Goal: Show that open source OGC clients can be used to perform meaningful queries on GeoAnalytics STAC API\n",
    "\n",
    "### About OWSLib\n",
    "\n",
    ">OWSLib is a Python package for client programming with Open Geospatial Consortium (OGC) web service (hence OWS) interface standards, and their related content models. \n",
    "\n",
    "https://geopython.github.io/OWSLib"
   ]
  },
  {
   "cell_type": "code",
   "execution_count": 1,
   "metadata": {},
   "outputs": [],
   "source": [
    "import os\n",
    "\n",
    "import pandas as pd\n",
    "from owslib.ogcapi.features import Features"
   ]
  },
  {
   "cell_type": "code",
   "execution_count": 2,
   "metadata": {},
   "outputs": [],
   "source": [
    "STAC_URL = 'https://stac.geoanalytics.ca'\n",
    "AUTH_TOKEN = os.environ['AUTH_TOKEN']"
   ]
  },
  {
   "cell_type": "code",
   "execution_count": 3,
   "metadata": {},
   "outputs": [],
   "source": [
    "stac = Features(STAC_URL, headers={'cookie': f'_oauth2_proxy={AUTH_TOKEN}'})"
   ]
  },
  {
   "cell_type": "code",
   "execution_count": 4,
   "metadata": {},
   "outputs": [],
   "source": [
    "def format_time_query(start, end):\n",
    "    if (start is None) or (start == ''):\n",
    "        start = '..'\n",
    "    if (end is None) or (end == ''):\n",
    "        end = '..'\n",
    "    return f'{start}/{end}'"
   ]
  },
  {
   "cell_type": "code",
   "execution_count": 5,
   "metadata": {},
   "outputs": [],
   "source": [
    "def format_property_query(key, val, op='='):\n",
    "    return f'{key}{op}{val}'"
   ]
  },
  {
   "cell_type": "code",
   "execution_count": 6,
   "metadata": {},
   "outputs": [],
   "source": [
    "def summarize_response(res):\n",
    "    if (not res['type']):\n",
    "        print(f'unexpected result {res}')\n",
    "    features = res['features']\n",
    "    count = len(features)\n",
    "    rows = [extract_row(x) for x in features]\n",
    "    df = pd.DataFrame(rows)\n",
    "    first = df['datetime'].min()\n",
    "    last = df['datetime'].max()\n",
    "    print(f'Query returned {count} points from {first} to {last}')\n",
    "    return df\n",
    "\n",
    "def extract_row(row):\n",
    "    return {\n",
    "        'id': row['id'],\n",
    "        'datetime': row['properties'] and row['properties']['datetime'],\n",
    "        'day_night_flag': row['properties'] and row['properties']['modis:day_night_flag'],\n",
    "        'link': row['assets']['data']['href']\n",
    "    }"
   ]
  },
  {
   "cell_type": "code",
   "execution_count": 7,
   "metadata": {},
   "outputs": [],
   "source": [
    "# define query variables\n",
    "evi2_collection = 'modis.mod09gq.veg.evi2'\n",
    "## wider bbox\n",
    "#bbox_input = [-70.0,45.0,-60.0,55.0]\n",
    "## narrower bbox\n",
    "bbox_input = [-65.0,47.0,-63.0,50.0]\n"
   ]
  },
  {
   "cell_type": "code",
   "execution_count": 8,
   "metadata": {},
   "outputs": [
    {
     "name": "stdout",
     "output_type": "stream",
     "text": [
      "Query returned 3712 points from 2015-01-01T13:55:00Z to 2020-03-08T00:00:00Z\n"
     ]
    },
    {
     "data": {
      "text/html": [
       "<div>\n",
       "<style scoped>\n",
       "    .dataframe tbody tr th:only-of-type {\n",
       "        vertical-align: middle;\n",
       "    }\n",
       "\n",
       "    .dataframe tbody tr th {\n",
       "        vertical-align: top;\n",
       "    }\n",
       "\n",
       "    .dataframe thead th {\n",
       "        text-align: right;\n",
       "    }\n",
       "</style>\n",
       "<table border=\"1\" class=\"dataframe\">\n",
       "  <thead>\n",
       "    <tr style=\"text-align: right;\">\n",
       "      <th></th>\n",
       "      <th>id</th>\n",
       "      <th>datetime</th>\n",
       "      <th>day_night_flag</th>\n",
       "      <th>link</th>\n",
       "    </tr>\n",
       "  </thead>\n",
       "  <tbody>\n",
       "    <tr>\n",
       "      <th>0</th>\n",
       "      <td>MOD09GQ.A2015001.h13v04.006.2015295022015_vegevi2</td>\n",
       "      <td>2015-01-01T13:55:00Z</td>\n",
       "      <td>BOTH</td>\n",
       "      <td>https://gp.geoanalytics.ca?object=modis-terra/...</td>\n",
       "    </tr>\n",
       "    <tr>\n",
       "      <th>1</th>\n",
       "      <td>MOD09GQ.A2015001.h13v03.006.2015295023525_vegevi2</td>\n",
       "      <td>2015-01-01T15:30:00Z</td>\n",
       "      <td>BOTH</td>\n",
       "      <td>https://gp.geoanalytics.ca?object=modis-terra/...</td>\n",
       "    </tr>\n",
       "    <tr>\n",
       "      <th>2</th>\n",
       "      <td>MOD09GQ.A2015002.h13v03.006.2015295022424_vegevi2</td>\n",
       "      <td>2015-01-02T14:35:00Z</td>\n",
       "      <td>BOTH</td>\n",
       "      <td>https://gp.geoanalytics.ca?object=modis-terra/...</td>\n",
       "    </tr>\n",
       "    <tr>\n",
       "      <th>3</th>\n",
       "      <td>MOD09GQ.A2015002.h13v04.006.2015295020040_vegevi2</td>\n",
       "      <td>2015-01-02T14:40:00Z</td>\n",
       "      <td>DAY</td>\n",
       "      <td>https://gp.geoanalytics.ca?object=modis-terra/...</td>\n",
       "    </tr>\n",
       "    <tr>\n",
       "      <th>4</th>\n",
       "      <td>MOD09GQ.A2015003.h13v04.006.2015295034315_vegevi2</td>\n",
       "      <td>2015-01-03T13:45:00Z</td>\n",
       "      <td>DAY</td>\n",
       "      <td>https://gp.geoanalytics.ca?object=modis-terra/...</td>\n",
       "    </tr>\n",
       "  </tbody>\n",
       "</table>\n",
       "</div>"
      ],
      "text/plain": [
       "                                                  id              datetime  \\\n",
       "0  MOD09GQ.A2015001.h13v04.006.2015295022015_vegevi2  2015-01-01T13:55:00Z   \n",
       "1  MOD09GQ.A2015001.h13v03.006.2015295023525_vegevi2  2015-01-01T15:30:00Z   \n",
       "2  MOD09GQ.A2015002.h13v03.006.2015295022424_vegevi2  2015-01-02T14:35:00Z   \n",
       "3  MOD09GQ.A2015002.h13v04.006.2015295020040_vegevi2  2015-01-02T14:40:00Z   \n",
       "4  MOD09GQ.A2015003.h13v04.006.2015295034315_vegevi2  2015-01-03T13:45:00Z   \n",
       "\n",
       "  day_night_flag                                               link  \n",
       "0           BOTH  https://gp.geoanalytics.ca?object=modis-terra/...  \n",
       "1           BOTH  https://gp.geoanalytics.ca?object=modis-terra/...  \n",
       "2           BOTH  https://gp.geoanalytics.ca?object=modis-terra/...  \n",
       "3            DAY  https://gp.geoanalytics.ca?object=modis-terra/...  \n",
       "4            DAY  https://gp.geoanalytics.ca?object=modis-terra/...  "
      ]
     },
     "execution_count": 8,
     "metadata": {},
     "output_type": "execute_result"
    }
   ],
   "source": [
    "# query by time, and bbox\n",
    "time_start = '2015-01-01' \n",
    "time_end = ''\n",
    "bbox = [str(x) for x in bbox_input]\n",
    "datetime = format_time_query(time_start, time_end)\n",
    "\n",
    "\n",
    "res = stac.collection_items(evi2_collection, bbox=bbox, datetime=datetime, limit=5000)\n",
    "df = summarize_response(res)\n",
    "df.head()"
   ]
  },
  {
   "cell_type": "code",
   "execution_count": 9,
   "metadata": {},
   "outputs": [
    {
     "name": "stdout",
     "output_type": "stream",
     "text": [
      "Query returned 304 points from 2019-01-01T14:15:00Z to 2019-06-01T14:20:00Z\n"
     ]
    },
    {
     "data": {
      "text/html": [
       "<div>\n",
       "<style scoped>\n",
       "    .dataframe tbody tr th:only-of-type {\n",
       "        vertical-align: middle;\n",
       "    }\n",
       "\n",
       "    .dataframe tbody tr th {\n",
       "        vertical-align: top;\n",
       "    }\n",
       "\n",
       "    .dataframe thead th {\n",
       "        text-align: right;\n",
       "    }\n",
       "</style>\n",
       "<table border=\"1\" class=\"dataframe\">\n",
       "  <thead>\n",
       "    <tr style=\"text-align: right;\">\n",
       "      <th></th>\n",
       "      <th>id</th>\n",
       "      <th>datetime</th>\n",
       "      <th>day_night_flag</th>\n",
       "      <th>link</th>\n",
       "    </tr>\n",
       "  </thead>\n",
       "  <tbody>\n",
       "    <tr>\n",
       "      <th>0</th>\n",
       "      <td>MOD09GQ.A2019001.h13v03.006.2019003024904_vegevi2</td>\n",
       "      <td>2019-01-01T14:15:00Z</td>\n",
       "      <td>BOTH</td>\n",
       "      <td>https://gp.geoanalytics.ca?object=modis-terra/...</td>\n",
       "    </tr>\n",
       "    <tr>\n",
       "      <th>1</th>\n",
       "      <td>MOD09GQ.A2019001.h13v04.006.2019003024931_vegevi2</td>\n",
       "      <td>2019-01-01T14:15:00Z</td>\n",
       "      <td>DAY</td>\n",
       "      <td>https://gp.geoanalytics.ca?object=modis-terra/...</td>\n",
       "    </tr>\n",
       "    <tr>\n",
       "      <th>2</th>\n",
       "      <td>MOD09GQ.A2019002.h13v03.006.2019004031930_vegevi2</td>\n",
       "      <td>2019-01-02T14:55:00Z</td>\n",
       "      <td>BOTH</td>\n",
       "      <td>https://gp.geoanalytics.ca?object=modis-terra/...</td>\n",
       "    </tr>\n",
       "    <tr>\n",
       "      <th>3</th>\n",
       "      <td>MOD09GQ.A2019002.h13v04.006.2019004032044_vegevi2</td>\n",
       "      <td>2019-01-02T14:55:00Z</td>\n",
       "      <td>DAY</td>\n",
       "      <td>https://gp.geoanalytics.ca?object=modis-terra/...</td>\n",
       "    </tr>\n",
       "    <tr>\n",
       "      <th>4</th>\n",
       "      <td>MOD09GQ.A2019003.h13v04.006.2019005030033_vegevi2</td>\n",
       "      <td>2019-01-03T14:00:00Z</td>\n",
       "      <td>DAY</td>\n",
       "      <td>https://gp.geoanalytics.ca?object=modis-terra/...</td>\n",
       "    </tr>\n",
       "  </tbody>\n",
       "</table>\n",
       "</div>"
      ],
      "text/plain": [
       "                                                  id              datetime  \\\n",
       "0  MOD09GQ.A2019001.h13v03.006.2019003024904_vegevi2  2019-01-01T14:15:00Z   \n",
       "1  MOD09GQ.A2019001.h13v04.006.2019003024931_vegevi2  2019-01-01T14:15:00Z   \n",
       "2  MOD09GQ.A2019002.h13v03.006.2019004031930_vegevi2  2019-01-02T14:55:00Z   \n",
       "3  MOD09GQ.A2019002.h13v04.006.2019004032044_vegevi2  2019-01-02T14:55:00Z   \n",
       "4  MOD09GQ.A2019003.h13v04.006.2019005030033_vegevi2  2019-01-03T14:00:00Z   \n",
       "\n",
       "  day_night_flag                                               link  \n",
       "0           BOTH  https://gp.geoanalytics.ca?object=modis-terra/...  \n",
       "1            DAY  https://gp.geoanalytics.ca?object=modis-terra/...  \n",
       "2           BOTH  https://gp.geoanalytics.ca?object=modis-terra/...  \n",
       "3            DAY  https://gp.geoanalytics.ca?object=modis-terra/...  \n",
       "4            DAY  https://gp.geoanalytics.ca?object=modis-terra/...  "
      ]
     },
     "execution_count": 9,
     "metadata": {},
     "output_type": "execute_result"
    }
   ],
   "source": [
    "# ex. change datetime range\n",
    "time_start = '2019-01-01' \n",
    "time_end = '2019-06-01'\n",
    "bbox = [str(x) for x in bbox_input]\n",
    "datetime = format_time_query(time_start, time_end)\n",
    "\n",
    "\n",
    "res = stac.collection_items(evi2_collection, bbox=bbox, datetime=datetime, limit=5000)\n",
    "df = summarize_response(res)\n",
    "df.head()"
   ]
  },
  {
   "cell_type": "code",
   "execution_count": 10,
   "metadata": {},
   "outputs": [],
   "source": [
    "## define a property filter\n",
    "#  ex. filter by day-night flag\n",
    "prop = format_property_query('modis:day_night_flag', 'DAY')"
   ]
  },
  {
   "cell_type": "code",
   "execution_count": 11,
   "metadata": {},
   "outputs": [
    {
     "name": "stdout",
     "output_type": "stream",
     "text": [
      "Query returned 249 points from 2019-01-01T14:15:00Z to 2019-06-01T14:20:00Z\n"
     ]
    },
    {
     "data": {
      "text/html": [
       "<div>\n",
       "<style scoped>\n",
       "    .dataframe tbody tr th:only-of-type {\n",
       "        vertical-align: middle;\n",
       "    }\n",
       "\n",
       "    .dataframe tbody tr th {\n",
       "        vertical-align: top;\n",
       "    }\n",
       "\n",
       "    .dataframe thead th {\n",
       "        text-align: right;\n",
       "    }\n",
       "</style>\n",
       "<table border=\"1\" class=\"dataframe\">\n",
       "  <thead>\n",
       "    <tr style=\"text-align: right;\">\n",
       "      <th></th>\n",
       "      <th>id</th>\n",
       "      <th>datetime</th>\n",
       "      <th>day_night_flag</th>\n",
       "      <th>link</th>\n",
       "    </tr>\n",
       "  </thead>\n",
       "  <tbody>\n",
       "    <tr>\n",
       "      <th>0</th>\n",
       "      <td>MOD09GQ.A2019001.h13v04.006.2019003024931_vegevi2</td>\n",
       "      <td>2019-01-01T14:15:00Z</td>\n",
       "      <td>DAY</td>\n",
       "      <td>https://gp.geoanalytics.ca?object=modis-terra/...</td>\n",
       "    </tr>\n",
       "    <tr>\n",
       "      <th>1</th>\n",
       "      <td>MOD09GQ.A2019002.h13v04.006.2019004032044_vegevi2</td>\n",
       "      <td>2019-01-02T14:55:00Z</td>\n",
       "      <td>DAY</td>\n",
       "      <td>https://gp.geoanalytics.ca?object=modis-terra/...</td>\n",
       "    </tr>\n",
       "    <tr>\n",
       "      <th>2</th>\n",
       "      <td>MOD09GQ.A2019003.h13v04.006.2019005030033_vegevi2</td>\n",
       "      <td>2019-01-03T14:00:00Z</td>\n",
       "      <td>DAY</td>\n",
       "      <td>https://gp.geoanalytics.ca?object=modis-terra/...</td>\n",
       "    </tr>\n",
       "    <tr>\n",
       "      <th>3</th>\n",
       "      <td>MOD09GQ.A2019006.h13v04.006.2019008025419_vegevi2</td>\n",
       "      <td>2019-01-06T14:30:00Z</td>\n",
       "      <td>DAY</td>\n",
       "      <td>https://gp.geoanalytics.ca?object=modis-terra/...</td>\n",
       "    </tr>\n",
       "    <tr>\n",
       "      <th>4</th>\n",
       "      <td>MOD09GQ.A2019007.h13v04.006.2019009033553_vegevi2</td>\n",
       "      <td>2019-01-07T13:40:00Z</td>\n",
       "      <td>DAY</td>\n",
       "      <td>https://gp.geoanalytics.ca?object=modis-terra/...</td>\n",
       "    </tr>\n",
       "  </tbody>\n",
       "</table>\n",
       "</div>"
      ],
      "text/plain": [
       "                                                  id              datetime  \\\n",
       "0  MOD09GQ.A2019001.h13v04.006.2019003024931_vegevi2  2019-01-01T14:15:00Z   \n",
       "1  MOD09GQ.A2019002.h13v04.006.2019004032044_vegevi2  2019-01-02T14:55:00Z   \n",
       "2  MOD09GQ.A2019003.h13v04.006.2019005030033_vegevi2  2019-01-03T14:00:00Z   \n",
       "3  MOD09GQ.A2019006.h13v04.006.2019008025419_vegevi2  2019-01-06T14:30:00Z   \n",
       "4  MOD09GQ.A2019007.h13v04.006.2019009033553_vegevi2  2019-01-07T13:40:00Z   \n",
       "\n",
       "  day_night_flag                                               link  \n",
       "0            DAY  https://gp.geoanalytics.ca?object=modis-terra/...  \n",
       "1            DAY  https://gp.geoanalytics.ca?object=modis-terra/...  \n",
       "2            DAY  https://gp.geoanalytics.ca?object=modis-terra/...  \n",
       "3            DAY  https://gp.geoanalytics.ca?object=modis-terra/...  \n",
       "4            DAY  https://gp.geoanalytics.ca?object=modis-terra/...  "
      ]
     },
     "execution_count": 11,
     "metadata": {},
     "output_type": "execute_result"
    }
   ],
   "source": [
    "# query by time, bbox, and day-night flag\n",
    "\n",
    "res = stac.collection_items(evi2_collection, bbox=bbox, datetime=datetime, query=prop, limit=5000)\n",
    "df = summarize_response(res)\n",
    "df.head()"
   ]
  }
 ],
 "metadata": {
  "kernelspec": {
   "display_name": "Python 3",
   "language": "python",
   "name": "python3"
  },
  "language_info": {
   "codemirror_mode": {
    "name": "ipython",
    "version": 3
   },
   "file_extension": ".py",
   "mimetype": "text/x-python",
   "name": "python",
   "nbconvert_exporter": "python",
   "pygments_lexer": "ipython3",
   "version": "3.7.6"
  }
 },
 "nbformat": 4,
 "nbformat_minor": 4
}
